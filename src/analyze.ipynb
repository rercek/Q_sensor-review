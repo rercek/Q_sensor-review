{
 "cells": [
  {
   "cell_type": "code",
   "execution_count": 1,
   "id": "d965c025-fd6c-46e6-83a3-bb249c3752d3",
   "metadata": {},
   "outputs": [],
   "source": [
    "import numpy as np\n",
    "import pandas as pd\n",
    "import matplotlib.pyplot as plt"
   ]
  },
  {
   "cell_type": "code",
   "execution_count": 2,
   "id": "5b4934ce-f1f7-48e3-859e-57a37b5c42a4",
   "metadata": {},
   "outputs": [],
   "source": [
    "temperatures = pd.read_csv('data/Mean Temperatures.csv')\n",
    "humidities = pd.read_csv('data/Mean Humidity.csv')"
   ]
  },
  {
   "cell_type": "code",
   "execution_count": 3,
   "id": "cd595611-e520-4f88-be37-c502c5dda4bc",
   "metadata": {},
   "outputs": [
    {
     "data": {
      "text/html": [
       "<div>\n",
       "<style scoped>\n",
       "    .dataframe tbody tr th:only-of-type {\n",
       "        vertical-align: middle;\n",
       "    }\n",
       "\n",
       "    .dataframe tbody tr th {\n",
       "        vertical-align: top;\n",
       "    }\n",
       "\n",
       "    .dataframe thead th {\n",
       "        text-align: right;\n",
       "    }\n",
       "</style>\n",
       "<table border=\"1\" class=\"dataframe\">\n",
       "  <thead>\n",
       "    <tr style=\"text-align: right;\">\n",
       "      <th></th>\n",
       "      <th>_time</th>\n",
       "      <th>Mean (DS18B20)</th>\n",
       "      <th>Mean (SDC40)</th>\n",
       "      <th>Mean (AHT20)</th>\n",
       "      <th>Mean (BMP280)</th>\n",
       "      <th>Mean (Others)</th>\n",
       "    </tr>\n",
       "  </thead>\n",
       "  <tbody>\n",
       "    <tr>\n",
       "      <th>0</th>\n",
       "      <td>2025-09-04 12:10:00</td>\n",
       "      <td>25.8</td>\n",
       "      <td>30.3</td>\n",
       "      <td>31.0</td>\n",
       "      <td>34.8</td>\n",
       "      <td>26.5</td>\n",
       "    </tr>\n",
       "    <tr>\n",
       "      <th>1</th>\n",
       "      <td>2025-09-04 12:20:00</td>\n",
       "      <td>26.0</td>\n",
       "      <td>30.8</td>\n",
       "      <td>31.8</td>\n",
       "      <td>36.5</td>\n",
       "      <td>26.9</td>\n",
       "    </tr>\n",
       "    <tr>\n",
       "      <th>2</th>\n",
       "      <td>2025-09-04 12:30:00</td>\n",
       "      <td>26.0</td>\n",
       "      <td>30.4</td>\n",
       "      <td>32.1</td>\n",
       "      <td>35.5</td>\n",
       "      <td>27.1</td>\n",
       "    </tr>\n",
       "    <tr>\n",
       "      <th>3</th>\n",
       "      <td>2025-09-04 12:40:00</td>\n",
       "      <td>26.2</td>\n",
       "      <td>30.6</td>\n",
       "      <td>31.3</td>\n",
       "      <td>35.8</td>\n",
       "      <td>27.0</td>\n",
       "    </tr>\n",
       "    <tr>\n",
       "      <th>4</th>\n",
       "      <td>2025-09-04 12:50:00</td>\n",
       "      <td>25.9</td>\n",
       "      <td>30.5</td>\n",
       "      <td>30.6</td>\n",
       "      <td>34.9</td>\n",
       "      <td>26.9</td>\n",
       "    </tr>\n",
       "    <tr>\n",
       "      <th>...</th>\n",
       "      <td>...</td>\n",
       "      <td>...</td>\n",
       "      <td>...</td>\n",
       "      <td>...</td>\n",
       "      <td>...</td>\n",
       "      <td>...</td>\n",
       "    </tr>\n",
       "    <tr>\n",
       "      <th>1867</th>\n",
       "      <td>2025-09-17 11:20:00</td>\n",
       "      <td>22.3</td>\n",
       "      <td>26.9</td>\n",
       "      <td>27.5</td>\n",
       "      <td>32.5</td>\n",
       "      <td>23.4</td>\n",
       "    </tr>\n",
       "    <tr>\n",
       "      <th>1868</th>\n",
       "      <td>2025-09-17 11:30:00</td>\n",
       "      <td>22.2</td>\n",
       "      <td>26.9</td>\n",
       "      <td>27.5</td>\n",
       "      <td>32.4</td>\n",
       "      <td>23.4</td>\n",
       "    </tr>\n",
       "    <tr>\n",
       "      <th>1869</th>\n",
       "      <td>2025-09-17 11:40:00</td>\n",
       "      <td>22.2</td>\n",
       "      <td>28.1</td>\n",
       "      <td>27.5</td>\n",
       "      <td>32.3</td>\n",
       "      <td>23.4</td>\n",
       "    </tr>\n",
       "    <tr>\n",
       "      <th>1870</th>\n",
       "      <td>2025-09-17 11:50:00</td>\n",
       "      <td>22.3</td>\n",
       "      <td>28.0</td>\n",
       "      <td>27.9</td>\n",
       "      <td>32.6</td>\n",
       "      <td>23.5</td>\n",
       "    </tr>\n",
       "    <tr>\n",
       "      <th>1871</th>\n",
       "      <td>2025-09-17 12:00:00</td>\n",
       "      <td>22.4</td>\n",
       "      <td>27.0</td>\n",
       "      <td>28.1</td>\n",
       "      <td>32.3</td>\n",
       "      <td>23.6</td>\n",
       "    </tr>\n",
       "  </tbody>\n",
       "</table>\n",
       "<p>1872 rows × 6 columns</p>\n",
       "</div>"
      ],
      "text/plain": [
       "                    _time  Mean (DS18B20)  Mean (SDC40)  Mean (AHT20)  \\\n",
       "0     2025-09-04 12:10:00            25.8          30.3          31.0   \n",
       "1     2025-09-04 12:20:00            26.0          30.8          31.8   \n",
       "2     2025-09-04 12:30:00            26.0          30.4          32.1   \n",
       "3     2025-09-04 12:40:00            26.2          30.6          31.3   \n",
       "4     2025-09-04 12:50:00            25.9          30.5          30.6   \n",
       "...                   ...             ...           ...           ...   \n",
       "1867  2025-09-17 11:20:00            22.3          26.9          27.5   \n",
       "1868  2025-09-17 11:30:00            22.2          26.9          27.5   \n",
       "1869  2025-09-17 11:40:00            22.2          28.1          27.5   \n",
       "1870  2025-09-17 11:50:00            22.3          28.0          27.9   \n",
       "1871  2025-09-17 12:00:00            22.4          27.0          28.1   \n",
       "\n",
       "      Mean (BMP280)  Mean (Others)  \n",
       "0              34.8           26.5  \n",
       "1              36.5           26.9  \n",
       "2              35.5           27.1  \n",
       "3              35.8           27.0  \n",
       "4              34.9           26.9  \n",
       "...             ...            ...  \n",
       "1867           32.5           23.4  \n",
       "1868           32.4           23.4  \n",
       "1869           32.3           23.4  \n",
       "1870           32.6           23.5  \n",
       "1871           32.3           23.6  \n",
       "\n",
       "[1872 rows x 6 columns]"
      ]
     },
     "execution_count": 3,
     "metadata": {},
     "output_type": "execute_result"
    }
   ],
   "source": [
    "temperatures"
   ]
  },
  {
   "cell_type": "code",
   "execution_count": 4,
   "id": "b6a22df4-98ac-4403-9e32-a81aad7bebf7",
   "metadata": {},
   "outputs": [
    {
     "data": {
      "text/html": [
       "<div>\n",
       "<style scoped>\n",
       "    .dataframe tbody tr th:only-of-type {\n",
       "        vertical-align: middle;\n",
       "    }\n",
       "\n",
       "    .dataframe tbody tr th {\n",
       "        vertical-align: top;\n",
       "    }\n",
       "\n",
       "    .dataframe thead th {\n",
       "        text-align: right;\n",
       "    }\n",
       "</style>\n",
       "<table border=\"1\" class=\"dataframe\">\n",
       "  <thead>\n",
       "    <tr style=\"text-align: right;\">\n",
       "      <th></th>\n",
       "      <th>_time</th>\n",
       "      <th>Mean (AHT20)</th>\n",
       "      <th>Mean (SDC40)</th>\n",
       "      <th>Mean (Other sensors)</th>\n",
       "    </tr>\n",
       "  </thead>\n",
       "  <tbody>\n",
       "    <tr>\n",
       "      <th>0</th>\n",
       "      <td>2025-09-04 12:10:00</td>\n",
       "      <td>36.4</td>\n",
       "      <td>36.2</td>\n",
       "      <td>44.4</td>\n",
       "    </tr>\n",
       "    <tr>\n",
       "      <th>1</th>\n",
       "      <td>2025-09-04 12:20:00</td>\n",
       "      <td>34.6</td>\n",
       "      <td>35.3</td>\n",
       "      <td>44.1</td>\n",
       "    </tr>\n",
       "    <tr>\n",
       "      <th>2</th>\n",
       "      <td>2025-09-04 12:30:00</td>\n",
       "      <td>34.5</td>\n",
       "      <td>36.0</td>\n",
       "      <td>43.7</td>\n",
       "    </tr>\n",
       "    <tr>\n",
       "      <th>3</th>\n",
       "      <td>2025-09-04 12:40:00</td>\n",
       "      <td>35.3</td>\n",
       "      <td>35.5</td>\n",
       "      <td>43.4</td>\n",
       "    </tr>\n",
       "    <tr>\n",
       "      <th>4</th>\n",
       "      <td>2025-09-04 12:50:00</td>\n",
       "      <td>36.2</td>\n",
       "      <td>34.7</td>\n",
       "      <td>43.3</td>\n",
       "    </tr>\n",
       "    <tr>\n",
       "      <th>...</th>\n",
       "      <td>...</td>\n",
       "      <td>...</td>\n",
       "      <td>...</td>\n",
       "      <td>...</td>\n",
       "    </tr>\n",
       "    <tr>\n",
       "      <th>1867</th>\n",
       "      <td>2025-09-17 11:20:00</td>\n",
       "      <td>35.2</td>\n",
       "      <td>35.1</td>\n",
       "      <td>43.5</td>\n",
       "    </tr>\n",
       "    <tr>\n",
       "      <th>1868</th>\n",
       "      <td>2025-09-17 11:30:00</td>\n",
       "      <td>35.4</td>\n",
       "      <td>35.0</td>\n",
       "      <td>43.5</td>\n",
       "    </tr>\n",
       "    <tr>\n",
       "      <th>1869</th>\n",
       "      <td>2025-09-17 11:40:00</td>\n",
       "      <td>35.5</td>\n",
       "      <td>33.1</td>\n",
       "      <td>43.4</td>\n",
       "    </tr>\n",
       "    <tr>\n",
       "      <th>1870</th>\n",
       "      <td>2025-09-17 11:50:00</td>\n",
       "      <td>34.6</td>\n",
       "      <td>33.1</td>\n",
       "      <td>43.4</td>\n",
       "    </tr>\n",
       "    <tr>\n",
       "      <th>1871</th>\n",
       "      <td>2025-09-17 12:00:00</td>\n",
       "      <td>34.5</td>\n",
       "      <td>36.0</td>\n",
       "      <td>43.4</td>\n",
       "    </tr>\n",
       "  </tbody>\n",
       "</table>\n",
       "<p>1872 rows × 4 columns</p>\n",
       "</div>"
      ],
      "text/plain": [
       "                    _time  Mean (AHT20)  Mean (SDC40)  Mean (Other sensors)\n",
       "0     2025-09-04 12:10:00          36.4          36.2                  44.4\n",
       "1     2025-09-04 12:20:00          34.6          35.3                  44.1\n",
       "2     2025-09-04 12:30:00          34.5          36.0                  43.7\n",
       "3     2025-09-04 12:40:00          35.3          35.5                  43.4\n",
       "4     2025-09-04 12:50:00          36.2          34.7                  43.3\n",
       "...                   ...           ...           ...                   ...\n",
       "1867  2025-09-17 11:20:00          35.2          35.1                  43.5\n",
       "1868  2025-09-17 11:30:00          35.4          35.0                  43.5\n",
       "1869  2025-09-17 11:40:00          35.5          33.1                  43.4\n",
       "1870  2025-09-17 11:50:00          34.6          33.1                  43.4\n",
       "1871  2025-09-17 12:00:00          34.5          36.0                  43.4\n",
       "\n",
       "[1872 rows x 4 columns]"
      ]
     },
     "execution_count": 4,
     "metadata": {},
     "output_type": "execute_result"
    }
   ],
   "source": [
    "humidities"
   ]
  },
  {
   "cell_type": "code",
   "execution_count": 5,
   "id": "5f8b9829-d3d8-49a6-8101-c81a3c77aa04",
   "metadata": {},
   "outputs": [],
   "source": [
    "taht=temperatures['Mean (AHT20)'].to_numpy()\n",
    "haht=humidities['Mean (AHT20)'].to_numpy()\n",
    "tsdc=temperatures['Mean (SDC40)'].to_numpy()\n",
    "hsdc=humidities['Mean (SDC40)'].to_numpy()\n",
    "tother=temperatures['Mean (Others)'].to_numpy()\n",
    "hother=humidities['Mean (Other sensors)'].to_numpy()"
   ]
  },
  {
   "cell_type": "code",
   "execution_count": 6,
   "id": "f158fe5a-c7eb-4b07-9444-74d28106ba9f",
   "metadata": {},
   "outputs": [],
   "source": [
    "#source : https://www.omnicalculator.com/physics/absolute-humidity\n",
    "def sat_vapor(T):\n",
    "    Pc = 22.064e6 #Pa - critical pressure for water\n",
    "    Tc = 647.096 #K - critical temperature for water\n",
    "    a = [-7.85951783,1.84408259,-11.7866497,22.6807411,-15.9618719,1.80122502] #Empirical constants\n",
    "    \n",
    "    to = 1 - T/Tc\n",
    "    Ps = Pc*np.exp(Tc/T*(a[0]*to+a[1]*np.power(to,1.5)+a[2]*np.power(to,3)+a[3]*np.power(to,3.5)+a[4]*np.power(to,4)+a[5]*np.power(to,7.5)))\n",
    "    return Ps\n",
    "                   "
   ]
  },
  {
   "cell_type": "code",
   "execution_count": 7,
   "id": "3c8968a5-22b5-4683-aef1-7a0a57d466f2",
   "metadata": {},
   "outputs": [],
   "source": [
    "def abs_hum(T,RH):\n",
    "    Rw = 461.5 #J/(kg.K) - Specific gas constant for water vapor\n",
    "    AH = RH*sat_vapor(T)/(Rw*T*100)\n",
    "    return AH"
   ]
  },
  {
   "cell_type": "code",
   "execution_count": 8,
   "id": "720c96cf-0f7b-40a3-8838-e5d519126f5c",
   "metadata": {},
   "outputs": [],
   "source": [
    "ahaht=abs_hum(taht+273.15,haht)\n",
    "ahsdc=abs_hum(tsdc+273.15,hsdc)\n",
    "ahother=abs_hum(tother+273.15,hother)"
   ]
  },
  {
   "cell_type": "code",
   "execution_count": 9,
   "id": "89ab0847-cd70-4d28-9dd2-4d7d6bb2a4ec",
   "metadata": {},
   "outputs": [
    {
     "data": {
      "text/plain": [
       "Text(0, 0.5, 'Absolute Humidity (g/m³)')"
      ]
     },
     "execution_count": 9,
     "metadata": {},
     "output_type": "execute_result"
    },
    {
     "data": {
      "image/png": "[encoded data removed]",
      "text/plain": [
       "<Figure size 432x288 with 1 Axes>"
      ]
     },
     "metadata": {
      "needs_background": "light"
     },
     "output_type": "display_data"
    }
   ],
   "source": [
    "plt.plot(1000*ahaht)\n",
    "plt.plot(1000*ahsdc)\n",
    "plt.plot(1000*ahother)\n",
    "plt.legend(['AHT20','SDC40','Others'])\n",
    "plt.xlabel('Point number')\n",
    "plt.ylabel('Absolute Humidity (g/m³)')"
   ]
  },
  {
   "cell_type": "code",
   "execution_count": 10,
   "id": "5fabb2be-f558-4f0d-bf86-f8827f2927c0",
   "metadata": {},
   "outputs": [
    {
     "data": {
      "text/plain": [
       "Text(0, 0.5, 'Absolute Humiditiy Difference (g/m³)')"
      ]
     },
     "execution_count": 10,
     "metadata": {},
     "output_type": "execute_result"
    },
    {
     "data": {
      "image/png": "[encoded data removed]",
      "text/plain": [
       "<Figure size 432x288 with 1 Axes>"
      ]
     },
     "metadata": {
      "needs_background": "light"
     },
     "output_type": "display_data"
    }
   ],
   "source": [
    "plt.plot(1000*(ahaht-ahother))\n",
    "plt.legend('AHT20-Others')\n",
    "plt.xlabel('Point number')\n",
    "plt.ylabel('Absolute Humiditiy Difference (g/m³)')"
   ]
  },
  {
   "cell_type": "code",
   "execution_count": 11,
   "id": "2a017ab5-d2ee-4427-bea2-97734cddf551",
   "metadata": {},
   "outputs": [
    {
     "data": {
      "text/plain": [
       "Text(0, 0.5, 'Absolute Humiditiy Difference (g/m³)')"
      ]
     },
     "execution_count": 11,
     "metadata": {},
     "output_type": "execute_result"
    },
    {
     "data": {
      "image/png": "[encoded data removed]",
      "text/plain": [
       "<Figure size 432x288 with 1 Axes>"
      ]
     },
     "metadata": {
      "needs_background": "light"
     },
     "output_type": "display_data"
    }
   ],
   "source": [
    "plt.plot(1000*(ahsdc-ahother))\n",
    "plt.legend('SDC40-Others')\n",
    "plt.xlabel('Point number')\n",
    "plt.ylabel('Absolute Humiditiy Difference (g/m³)')"
   ]
  },
  {
   "cell_type": "code",
   "execution_count": 13,
   "id": "5f4a2903-544e-4f55-b162-9dd5a53e7803",
   "metadata": {},
   "outputs": [
    {
     "name": "stdout",
     "output_type": "stream",
     "text": [
      "Mean difference AHT20-Others= 0.2127191623338117 g/m³\n"
     ]
    }
   ],
   "source": [
    "print('Mean difference AHT20-Others=', 1000*np.mean(ahaht-ahother),'g/m³')"
   ]
  },
  {
   "cell_type": "code",
   "execution_count": 14,
   "id": "80581e1e-ff06-49d1-8506-2ff9cdd4a45b",
   "metadata": {},
   "outputs": [
    {
     "name": "stdout",
     "output_type": "stream",
     "text": [
      "Mean difference SDC40-Others= -0.20215301733470104 g/m³\n"
     ]
    }
   ],
   "source": [
    "print('Mean difference SDC40-Others=', 1000*np.mean(ahsdc-ahother),'g/m³')"
   ]
  }
 ],
 "metadata": {
  "kernelspec": {
   "display_name": "Python 3 (ipykernel)",
   "language": "python",
   "name": "python3"
  },
  "language_info": {
   "codemirror_mode": {
    "name": "ipython",
    "version": 3
   },
   "file_extension": ".py",
   "mimetype": "text/x-python",
   "name": "python",
   "nbconvert_exporter": "python",
   "pygments_lexer": "ipython3",
   "version": "3.9.12"
  }
 },
 "nbformat": 4,
 "nbformat_minor": 5
}
